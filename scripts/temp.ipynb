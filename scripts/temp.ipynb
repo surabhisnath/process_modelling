{
 "cells": [
  {
   "cell_type": "code",
   "execution_count": null,
   "metadata": {},
   "outputs": [],
   "source": [
    "import transformers\n",
    "import torch\n",
    "\n",
    "save_dir = \"../../models/meta-llama-3.1-8B-instruct/\"  # Path to the saved model directory\n",
    "\n",
    "# Load the model and tokenizer from the local directory\n",
    "tokenizer = transformers.AutoTokenizer.from_pretrained(save_dir)\n",
    "model = transformers.AutoModelForCausalLM.from_pretrained(save_dir, torch_dtype=torch.bfloat16, device_map=\"auto\")"
   ]
  },
  {
   "cell_type": "code",
   "execution_count": 9,
   "metadata": {},
   "outputs": [
    {
     "data": {
      "application/vnd.jupyter.widget-view+json": {
       "model_id": "2a894dadcbfe4b8ca6f6621e29556705",
       "version_major": 2,
       "version_minor": 0
      },
      "text/plain": [
       "Loading checkpoint shards:   0%|          | 0/7 [00:00<?, ?it/s]"
      ]
     },
     "metadata": {},
     "output_type": "display_data"
    },
    {
     "name": "stdout",
     "output_type": "stream",
     "text": [
      "torch.Size([3, 1, 63])\n"
     ]
    },
    {
     "ename": "NameError",
     "evalue": "name 'sdds' is not defined",
     "output_type": "error",
     "traceback": [
      "\u001b[0;31m---------------------------------------------------------------------------\u001b[0m",
      "\u001b[0;31mNameError\u001b[0m                                 Traceback (most recent call last)",
      "Cell \u001b[0;32mIn[9], line 30\u001b[0m\n\u001b[1;32m     28\u001b[0m input_ids \u001b[38;5;241m=\u001b[39m torch\u001b[38;5;241m.\u001b[39mstack(xx)\n\u001b[1;32m     29\u001b[0m \u001b[38;5;28mprint\u001b[39m(input_ids\u001b[38;5;241m.\u001b[39mshape)\n\u001b[0;32m---> 30\u001b[0m sd \u001b[38;5;241m=\u001b[39m \u001b[43msdds\u001b[49m\n\u001b[1;32m     32\u001b[0m \u001b[38;5;66;03m# input_ids = input_ids.repeat(2, 1)\u001b[39;00m\n\u001b[1;32m     33\u001b[0m \u001b[38;5;66;03m# print(input_ids.shape)\u001b[39;00m\n\u001b[1;32m     35\u001b[0m terminators \u001b[38;5;241m=\u001b[39m [\n\u001b[1;32m     36\u001b[0m     tokenizer\u001b[38;5;241m.\u001b[39meos_token_id,\n\u001b[1;32m     37\u001b[0m     tokenizer\u001b[38;5;241m.\u001b[39mconvert_tokens_to_ids(\u001b[38;5;124m\"\u001b[39m\u001b[38;5;124m<|eot_id|>\u001b[39m\u001b[38;5;124m\"\u001b[39m)\n\u001b[1;32m     38\u001b[0m ]\n",
      "\u001b[0;31mNameError\u001b[0m: name 'sdds' is not defined"
     ]
    }
   ],
   "source": [
    "animals = [\"dog\", \"bird\", \"cat\"]\n",
    "feature = [\"feature_is bird\"]*3\n",
    "\n",
    "xx = []\n",
    "\n",
    "for a, f in zip(animals, feature):\n",
    "    messages = [\n",
    "                {\"role\": \"system\", \"content\": \"You are a helpful assistant and animal expert who has access to all the facts about animals.\"},\n",
    "                {\"role\": \"user\", \"content\": f\"Output only true or false. {a}: {f.split(\"_\")[1]}\"},\n",
    "            ]\n",
    "\n",
    "    input_ids = tokenizer.apply_chat_template(\n",
    "        messages,\n",
    "        add_generation_prompt=True,\n",
    "        return_tensors=\"pt\"\n",
    "    ).to(model.device)\n",
    "    xx.append(input_ids)\n",
    "\n",
    "input_ids = torch.stack(xx)\n",
    "print(input_ids.shape)\n",
    "sd = sdds\n",
    "\n",
    "# input_ids = input_ids.repeat(2, 1)\n",
    "# print(input_ids.shape)\n",
    "\n",
    "terminators = [\n",
    "    tokenizer.eos_token_id,\n",
    "    tokenizer.convert_tokens_to_ids(\"<|eot_id|>\")\n",
    "]"
   ]
  },
  {
   "cell_type": "code",
   "execution_count": 7,
   "metadata": {},
   "outputs": [
    {
     "name": "stderr",
     "output_type": "stream",
     "text": [
      "The attention mask and the pad token id were not set. As a consequence, you may observe unexpected behavior. Please pass your input's `attention_mask` to obtain reliable results.\n",
      "Setting `pad_token_id` to `eos_token_id`:None for open-end generation.\n"
     ]
    }
   ],
   "source": [
    "outputs = model.generate(\n",
    "    input_ids,\n",
    "    max_new_tokens=256,\n",
    "    eos_token_id=terminators,\n",
    "    do_sample=True,\n",
    "    temperature=0.6,\n",
    "    top_p=0.9,\n",
    ")"
   ]
  },
  {
   "cell_type": "code",
   "execution_count": 8,
   "metadata": {},
   "outputs": [
    {
     "name": "stdout",
     "output_type": "stream",
     "text": [
      "torch.Size([2])\n",
      "False\n"
     ]
    }
   ],
   "source": [
    "response = outputs[0][input_ids.shape[-1]:]\n",
    "# print(outputs.shape)\n",
    "# print(type(outputs))\n",
    "# print(len(outputs))\n",
    "# sd = dssd\n",
    "print(response.shape)\n",
    "# sd = sds\n",
    "print(tokenizer.decode(response, skip_special_tokens=True))"
   ]
  },
  {
   "cell_type": "code",
   "execution_count": null,
   "metadata": {},
   "outputs": [],
   "source": []
  }
 ],
 "metadata": {
  "kernelspec": {
   "display_name": "process_modelling",
   "language": "python",
   "name": "python3"
  },
  "language_info": {
   "codemirror_mode": {
    "name": "ipython",
    "version": 3
   },
   "file_extension": ".py",
   "mimetype": "text/x-python",
   "name": "python",
   "nbconvert_exporter": "python",
   "pygments_lexer": "ipython3",
   "version": "3.12.7"
  }
 },
 "nbformat": 4,
 "nbformat_minor": 2
}
